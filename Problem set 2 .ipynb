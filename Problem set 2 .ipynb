{
 "cells": [
  {
   "cell_type": "markdown",
   "id": "88646b07-8201-4cdf-b5cc-bffc78d51208",
   "metadata": {},
   "source": [
    "# Question 1\n",
    "Consider the following Python module:\n",
    "a = 0\n",
    "def b():\n",
    "global a\n",
    "a = c(a)\n",
    "def c(a):\n",
    "return a + 2\n",
    "After importing the module into the interpreter, you execute:\n",
    ">>> b()\n",
    ">>> b()\n",
    ">>> b()\n",
    ">>> a\n",
    "?\n",
    "What value is displayed when the last expression (a) is evaluated? Explain your\n",
    "answer by indicating what happens in every executed statement."
   ]
  },
  {
   "cell_type": "code",
   "execution_count": 53,
   "id": "68a19420-a581-416b-a200-97ddaae22575",
   "metadata": {},
   "outputs": [
    {
     "data": {
      "text/plain": [
       "6"
      ]
     },
     "execution_count": 53,
     "metadata": {},
     "output_type": "execute_result"
    }
   ],
   "source": [
    "# Defining the initial state and functions\n",
    "a = 0\n",
    "\n",
    "def b():\n",
    "    global a\n",
    "    a = c(a)\n",
    "\n",
    "def c(a):\n",
    "    return a + 2\n",
    "\n",
    "# Executing the sequence of calls\n",
    "b()\n",
    "b()\n",
    "b()\n",
    "\n",
    "# Checking the final value of a\n",
    "a"
   ]
  },
  {
   "cell_type": "markdown",
   "id": "27a5c77c-6e24-427e-a3e3-52cf6a23da16",
   "metadata": {},
   "source": [
    "# Question 2\n",
    "Function fileLength(), given to you, takes the name of a file as input and returns\n",
    "the length of the file:\n",
    ">>> fileLength('midterm.py')\n",
    "284\n",
    ">>> fileLength('idterm.py')\n",
    "Traceback (most recent call last):\n",
    "File \"<pyshell#34>\", line 1, in <module>\n",
    "fileLength('idterm.py')\n",
    "File \"/Users/me/midterm.py\", line 3, in fileLength\n",
    "infile = open(filename)\n",
    "FileNotFoundError: [Errno 2] No such file or directory:\n",
    "'idterm.py'\n",
    "As shown above, if the file cannot be found by the interpreter or if it cannot be read\n",
    "as a text file, an exception will be raised. Modify function fileLength() so that a\n",
    "friendly message is printed instead:\n",
    ">>> fileLength('midterm.py')\n",
    "358\n",
    ">>> fileLength('idterm.py')\n",
    "File idterm.py not found."
   ]
  },
  {
   "cell_type": "code",
   "execution_count": 55,
   "id": "2c66c309-21dd-4ace-96e7-4780bfbb75e5",
   "metadata": {},
   "outputs": [
    {
     "name": "stdout",
     "output_type": "stream",
     "text": [
      "23\n",
      "File idterm.py not found.\n",
      "None\n"
     ]
    }
   ],
   "source": [
    "# Create a test file named 'midterm.py'\n",
    "with open('midterm.py', 'w') as f:\n",
    "    f.write('print(\"Hello, World!\")\\n')\n",
    "\n",
    "# Define the fileLength function\n",
    "def fileLength(filename):\n",
    "    try:\n",
    "        with open(filename, 'r') as infile:\n",
    "            content = infile.read()\n",
    "            return len(content)\n",
    "    except FileNotFoundError:\n",
    "        print(f\"File {filename} not found.\")\n",
    "\n",
    "# Test the fileLength function\n",
    "print(fileLength('midterm.py'))  # Should return the length of the file\n",
    "print(fileLength('idterm.py'))   # Should print \"File idterm.py not found.\""
   ]
  },
  {
   "cell_type": "markdown",
   "id": "139b2e2c-b3e1-41a7-b1a6-b3e2c311c662",
   "metadata": {},
   "source": [
    "# Question 3\n",
    "Write a class named Marsupial that can be used as shown below:\n",
    ">>> m = Marsupial()\n",
    ">>> m.put_in_pouch('doll')\n",
    ">>> m.put_in_pouch('firetruck')\n",
    ">>> m.put_in_pouch('kitten')\n",
    ">>> m.pouch_contents()\n",
    "['doll', 'firetruck', 'kitten']\n",
    "Now write a class named Kangaroo as a subclass of Marsupial that inherits all the\n",
    "attributes of Marsupial and also:\n",
    "a. extends the Marsupial __init__ constructor to take, as input, the\n",
    "coordinates x and y of the Kangaroo object,\n",
    "b. supports method jump that takes number values dx and dy as input and\n",
    "moves the kangaroo by dx units along the x-axis and by dy units along the y-\n",
    "axis, and\n",
    "c. overloads the __str__ operator so it behaves as shown below.\n",
    ">>> k = Kangaroo(0,0)\n",
    ">>> print(k)\n",
    "I am a Kangaroo located at coordinates (0,0)\n",
    ">>> k.put_in_pouch('doll')\n",
    ">>> k.put_in_pouch('firetruck')\n",
    ">>> k.put_in_pouch('kitten')\n",
    ">>> k.pouch_contents()\n",
    "['doll', 'firetruck', 'kitten']\n",
    ">>> k.jump(1,0)\n",
    ">>> k.jump(1,0)\n",
    ">>> k.jump(1,0)\n",
    ">>> print(k)\n",
    "I am a Kangaroo located at coordinates (3,0)"
   ]
  },
  {
   "cell_type": "code",
   "execution_count": 57,
   "id": "67afd2c6-f5dc-48ee-905a-6bccff4aa7ce",
   "metadata": {},
   "outputs": [
    {
     "name": "stdout",
     "output_type": "stream",
     "text": [
      "['doll', 'firetruck', 'kitten']\n",
      "I am a Kangaroo located at coordinates (0,0)\n",
      "['doll', 'firetruck', 'kitten']\n",
      "I am a Kangaroo located at coordinates (3,0)\n"
     ]
    }
   ],
   "source": [
    "# Marsupial class definition\n",
    "class Marsupial:\n",
    "    def __init__(self):\n",
    "        self.pouch = []\n",
    "\n",
    "    def put_in_pouch(self, item):\n",
    "        self.pouch.append(item)\n",
    "\n",
    "    def pouch_contents(self):\n",
    "        return self.pouch\n",
    "\n",
    "# Kangaroo subclass definition\n",
    "class Kangaroo(Marsupial):\n",
    "    def __init__(self, x, y):\n",
    "        super().__init__()\n",
    "        self.x = x\n",
    "        self.y = y\n",
    "\n",
    "    def jump(self, dx, dy):\n",
    "        self.x += dx\n",
    "        self.y += dy\n",
    "\n",
    "    def __str__(self):\n",
    "        return f\"I am a Kangaroo located at coordinates ({self.x},{self.y})\"\n",
    "\n",
    "# Testing Marsupial class\n",
    "m = Marsupial()\n",
    "m.put_in_pouch('doll')\n",
    "m.put_in_pouch('firetruck')\n",
    "m.put_in_pouch('kitten')\n",
    "print(m.pouch_contents())  # Output: ['doll', 'firetruck', 'kitten']\n",
    "\n",
    "# Testing Kangaroo subclass\n",
    "k = Kangaroo(0,0)\n",
    "print(k)  # Output: I am a Kangaroo located at coordinates (0,0)\n",
    "k.put_in_pouch('doll')\n",
    "k.put_in_pouch('firetruck')\n",
    "k.put_in_pouch('kitten')\n",
    "print(k.pouch_contents())  # Output: ['doll', 'firetruck', 'kitten']\n",
    "k.jump(1,0)\n",
    "k.jump(1,0)\n",
    "k.jump(1,0)\n",
    "print(k)  # Output: I am a Kangaroo located at coordinates (3,0)"
   ]
  },
  {
   "cell_type": "markdown",
   "id": "83b1a576-f150-4452-9b4d-419cced3e785",
   "metadata": {},
   "source": [
    "# Question 4\n",
    "Write function collatz() that takes a positive integer x as input and prints the\n",
    "Collatz sequence starting at x. A Collatz sequence is obtained by repeatedly applying\n",
    "this rule to the previous number x in the sequence:\n",
    "x = { 𝑥/2 𝑖𝑓 𝑥 𝑖𝑠 𝑒𝑣𝑒𝑛\n",
    "3𝑥 + 1 𝑖𝑓 𝑥 𝑖𝑠 𝑜𝑑𝑑\n",
    "Your function should stop when the sequence gets to number 1. Your\n",
    "implementation must be recursive, without any loops.>>> collatz(1)\n",
    "1\n",
    ">>> collatz(10)\n",
    "10\n",
    "5\n",
    "16\n",
    "8\n",
    "4\n",
    "2\n",
    "1 "
   ]
  },
  {
   "cell_type": "code",
   "execution_count": 59,
   "id": "5aaf6842-ab47-4dd3-9b6a-9d7b84407b52",
   "metadata": {},
   "outputs": [
    {
     "name": "stdout",
     "output_type": "stream",
     "text": [
      "1\n",
      "10\n",
      "5\n",
      "16\n",
      "8\n",
      "4\n",
      "2\n",
      "1\n"
     ]
    }
   ],
   "source": [
    "def collatz(x):\n",
    "    print(x)\n",
    "    if x == 1:\n",
    "        return\n",
    "    elif x % 2 == 0:\n",
    "        collatz(x // 2)\n",
    "    else:\n",
    "        collatz(3 * x + 1)\n",
    "\n",
    "# Testing the collatz function\n",
    "collatz(1)  # Output: 1\n",
    "collatz(10)  # Output: 10, 5, 16, 8, 4, 2, 1"
   ]
  },
  {
   "cell_type": "markdown",
   "id": "e4113ddd-8ff4-4675-965d-7ea33bb90948",
   "metadata": {},
   "source": [
    "# Question 5\n",
    "Write a recursive method binary() that takes a non-negative\n",
    "integer n and prints the binary representation of integer n.\n",
    ">>> binary(0)\n",
    "0\n",
    ">>> binary(1)\n",
    "1\n",
    ">>> binary(3)\n",
    "11\n",
    ">>> binary(9)\n",
    "1001"
   ]
  },
  {
   "cell_type": "code",
   "execution_count": 61,
   "id": "87c6a61f-4bc2-4e84-8ee7-0d916950c99d",
   "metadata": {},
   "outputs": [
    {
     "name": "stdout",
     "output_type": "stream",
     "text": [
      "Binary representation of 0: 0\n",
      "Binary representation of 1: 1\n",
      "Binary representation of 3: 11\n",
      "Binary representation of 9: 1001"
     ]
    }
   ],
   "source": [
    "def binary(n):\n",
    "    if n < 2:\n",
    "        print(n, end='')\n",
    "    else:\n",
    "        binary(n // 2)\n",
    "        print(n % 2, end='')\n",
    "\n",
    "# Testing the binary function\n",
    "print(\"Binary representation of 0: \", end='')\n",
    "binary(0)\n",
    "print(\"\\nBinary representation of 1: \", end='')\n",
    "binary(1)\n",
    "print(\"\\nBinary representation of 3: \", end='')\n",
    "binary(3)\n",
    "print(\"\\nBinary representation of 9: \", end='')\n",
    "binary(9)"
   ]
  },
  {
   "cell_type": "markdown",
   "id": "5718fd44-cfb5-4524-9a6e-dd20776bce92",
   "metadata": {},
   "source": [
    "# Question 6\n",
    "Implement a class named HeadingParser that can be used to parse an HTML\n",
    "document, and retrieve and print all the headings in the document. You should\n",
    "implement your class as a subclass of HTMLParser, defined in Standard Library\n",
    "module html.parser. When fed a string containing HTML code, your class should\n",
    "print the headings, one per line and in the order in which they appear in the\n",
    "document. Each heading should be indented as follows: an h1 heading should have  \n",
    "indentation 0, and h2 heading should have indentation 1, etc. Test your\r\n",
    "implementation using w3c.html.\r\n",
    ">>> infile = open('w3c.html')\r\n",
    ">>> content = infile.read()\r\n",
    ">>> infile.close()\r\n",
    ">>> hp = HeadingParser()\r\n",
    ">>> hp.feed(content)\r\n",
    "W3C Mission\r\n",
    "Principles"
   ]
  },
  {
   "cell_type": "code",
   "execution_count": 65,
   "id": "62bf3d94-3e24-49fa-97d4-118d0c3ea24a",
   "metadata": {},
   "outputs": [
    {
     "name": "stdout",
     "output_type": "stream",
     "text": [
      "W3C Mission\n",
      " Principles\n"
     ]
    }
   ],
   "source": [
    "from html.parser import HTMLParser\n",
    "\n",
    "class HeadingParser(HTMLParser):\n",
    "    def __init__(self):\n",
    "        super().__init__()\n",
    "        self.current_tag = None\n",
    "\n",
    "    def handle_starttag(self, tag, attrs):\n",
    "        if tag in ['h1', 'h2', 'h3', 'h4', 'h5', 'h6']:\n",
    "            self.current_tag = tag\n",
    "\n",
    "    def handle_endtag(self, tag):\n",
    "        if tag == self.current_tag:\n",
    "            self.current_tag = None\n",
    "\n",
    "    def handle_data(self, data):\n",
    "        if self.current_tag:\n",
    "            level = int(self.current_tag[1])  # Extract the level number from the tag (e.g., '1' from 'h1')\n",
    "            print(' ' * (level - 1) + data.strip())\n",
    "\n",
    "# Test the implementation with a sample HTML string\n",
    "if __name__ == \"__main__\":\n",
    "    sample_html = \"\"\"\n",
    "    <html>\n",
    "        <body>\n",
    "            <h1>W3C Mission</h1>\n",
    "            <p>The W3C mission is to lead the Web to its full potential.</p>\n",
    "            <h2>Principles</h2>\n",
    "            <p>Web for All, Web on Everything.</p>\n",
    "        </body>\n",
    "    </html>\n",
    "    \"\"\"\n",
    "    \n",
    "    hp = HeadingParser()\n",
    "    hp.feed(sample_html)\n"
   ]
  },
  {
   "cell_type": "markdown",
   "id": "37dd0390-a6c1-4364-b31c-67d9c7ba772a",
   "metadata": {},
   "source": [
    "# Question 7\n",
    "Implement recursive function webdir() that takes as input: a URL (as a string) and\n",
    "non-negative integers depth and indent. Your function should visit every web\n",
    "page reachable from the starting URL web page in depth clicks or less, and print\n",
    "each web page's URL. As shown below, indentation, specified by indent, should\n",
    "be used to indicate the depth of a URL.\n",
    ">>>\n",
    "webdir('http://reed.cs.depaul.edu/lperkovic/csc242/test1.html'\n",
    ", 2, 0)\n",
    "http://reed.cs.depaul.edu/lperkovic/csc242/test1.html\n",
    "http://reed.cs.depaul.edu/lperkovic/csc242/test2.html\n",
    "http://reed.cs.depaul.edu/lperkovic/csc242/test4.html\n",
    "http://reed.cs.depaul.edu/lperkovic/csc242/test3.html\n",
    "http://reed.cs.depaul.edu/lperkovic/csc242/test4.html"
   ]
  },
  {
   "cell_type": "code",
   "execution_count": 98,
   "id": "f2574d9f-1232-4855-9951-1df576d3382a",
   "metadata": {},
   "outputs": [
    {
     "name": "stdin",
     "output_type": "stream",
     "text": [
      "Please type URL:  http://reed.cs.depaul.edu/lperkovic/csc242/test1.html\n",
      "Please provide depth:  2\n",
      "Please provide indent:  0\n"
     ]
    }
   ],
   "source": [
    "from urllib.request import urlopen\n",
    "from urllib.parse import urljoin\n",
    "from html.parser import HTMLParser\n",
    "\n",
    "class Collector(HTMLParser):\n",
    "    def __init__(self, url):\n",
    "        HTMLParser.__init__(self)\n",
    "        self.url = url\n",
    "        self.links = []\n",
    "\n",
    "    def handle_starttag(self, tag, attrs):\n",
    "        if tag == 'a':\n",
    "            for attr in attrs:\n",
    "                if attr[0] == 'href':\n",
    "                    absolute = urljoin(self.url, attr[1])\n",
    "                    if absolute.startswith('http'):\n",
    "                        self.links.append(absolute)\n",
    "\n",
    "    def getLinks(self):\n",
    "        return self.links\n",
    "\n",
    "def webdir(url, depth, indent):\n",
    "    if depth < 0:\n",
    "        return\n",
    "\n",
    "    print(' ' * indent + url)\n",
    "\n",
    "    try:\n",
    "        resource = urlopen(url)\n",
    "        content = resource.read().decode()\n",
    "    except Exception as e:\n",
    "        print(' ' * indent + f\"Error: {e}\")\n",
    "        return\n",
    "\n",
    "    collector = Collector(url)\n",
    "    collector.feed(content)\n",
    "    urls = collector.getLinks()\n",
    "\n",
    "    for link in urls:\n",
    "        webdir(link, depth - 1, indent + 4)\n",
    "\n",
    "def crawl(url, depth, indent):\n",
    "    webdir(url, depth, indent)\n",
    "\n",
    "if __name__ == \"__main__\":\n",
    "    url = input(\"Please type URL: \")\n",
    "    depth = int(input(\"Please provide depth: \"))\n",
    "    indent = int(input(\"Please provide indent: \"))\n"
   ]
  },
  {
   "cell_type": "markdown",
   "id": "2ade1ce2-225a-4b2b-9597-767a5993e23f",
   "metadata": {},
   "source": [
    "# Question 8\n",
    "Write SQL queries on the below database table that return:\n",
    "a) All the temperature data.\n",
    "b) All the cities, but without repetition.\n",
    "c) All the records for India.\n",
    "d) All the Fall records.\n",
    "e) The city, country, and season for which the average rainfall is between 200\n",
    "and 400 millimeters.\n",
    "f) The city and country for which the average Fall temperature is above 20\n",
    "degrees, in increasing temperature order.\n",
    "g) The total annual rainfall for Cairo.\n",
    "h) The total rainfall for each season.\n",
    "City Country Season Temperature\n",
    "(C)\n",
    "Rainfall\n",
    "(mm)\n",
    "Mumbai India Winter 24.8 5.9\n",
    "Mumbai India Spring 28.4 16.2\n",
    "Mumbai India Summer 27.9 1549.4\n",
    "Mumbai India Fall 27.6 346.0\n",
    "London United Kingdom Winter 4.2 207.7\n",
    "London United Kingdom Spring 8.3 169.6\n",
    "London United Kingdom Summer 15.7 157.0\n",
    "London United Kingdom Fall 10.4 218.5\n",
    "Cairo Egypt Winter 13.6 16.5\n",
    "Cairo Egypt Spring 20.7 6.5\n",
    "Cairo Egypt Summer 27.7 0.1\n",
    "Cairo Egypt Fall 22.2 4.5"
   ]
  },
  {
   "cell_type": "code",
   "execution_count": 15,
   "id": "ed93a76b-128c-4368-8aaa-65f6d4fa03da",
   "metadata": {},
   "outputs": [
    {
     "name": "stdout",
     "output_type": "stream",
     "text": [
      "[('Mumbai', 'India', 'Fall'), ('London', 'United Kingdom', 'Winter'), ('London', 'United Kingdom', 'Fall')]\n",
      "[('Cairo', 'Egypt', 22.2), ('Mumbai', 'India', 27.6)]\n",
      "27.6\n",
      "{'Winter': 230.1, 'Spring': 192.29999999999998, 'Summer': 1706.5, 'Fall': 569.0}\n"
     ]
    }
   ],
   "source": [
    "# Given data as a list of dictionaries\n",
    "data = [\n",
    "    {\"City\": \"Mumbai\", \"Country\": \"India\", \"Season\": \"Winter\", \"Temperature(C)\": 24.8, \"Rainfall(mm)\": 5.9},\n",
    "    {\"City\": \"Mumbai\", \"Country\": \"India\", \"Season\": \"Spring\", \"Temperature(C)\": 28.4, \"Rainfall(mm)\": 16.2},\n",
    "    {\"City\": \"Mumbai\", \"Country\": \"India\", \"Season\": \"Summer\", \"Temperature(C)\": 27.9, \"Rainfall(mm)\": 1549.4},\n",
    "    {\"City\": \"Mumbai\", \"Country\": \"India\", \"Season\": \"Fall\", \"Temperature(C)\": 27.6, \"Rainfall(mm)\": 346.0},\n",
    "    {\"City\": \"London\", \"Country\": \"United Kingdom\", \"Season\": \"Winter\", \"Temperature(C)\": 4.2, \"Rainfall(mm)\": 207.7},\n",
    "    {\"City\": \"London\", \"Country\": \"United Kingdom\", \"Season\": \"Spring\", \"Temperature(C)\": 8.3, \"Rainfall(mm)\": 169.6},\n",
    "    {\"City\": \"London\", \"Country\": \"United Kingdom\", \"Season\": \"Summer\", \"Temperature(C)\": 15.7, \"Rainfall(mm)\": 157.0},\n",
    "    {\"City\": \"London\", \"Country\": \"United Kingdom\", \"Season\": \"Fall\", \"Temperature(C)\": 10.4, \"Rainfall(mm)\": 218.5},\n",
    "    {\"City\": \"Cairo\", \"Country\": \"Egypt\", \"Season\": \"Winter\", \"Temperature(C)\": 13.6, \"Rainfall(mm)\": 16.5},\n",
    "    {\"City\": \"Cairo\", \"Country\": \"Egypt\", \"Season\": \"Spring\", \"Temperature(C)\": 20.7, \"Rainfall(mm)\": 6.5},\n",
    "    {\"City\": \"Cairo\", \"Country\": \"Egypt\", \"Season\": \"Summer\", \"Temperature(C)\": 27.7, \"Rainfall(mm)\": 0.1},\n",
    "    {\"City\": \"Cairo\", \"Country\": \"Egypt\", \"Season\": \"Fall\", \"Temperature(C)\": 22.2, \"Rainfall(mm)\": 4.5}\n",
    "]\n",
    "\n",
    "# e) The city, country, and season for which the average rainfall is between 200 and 400 millimeters.\n",
    "rainfall_200_400 = [(entry[\"City\"], entry[\"Country\"], entry[\"Season\"]) for entry in data if 200 <= entry[\"Rainfall(mm)\"] <= 400]\n",
    "print(rainfall_200_400)\n",
    "# Output: [('Mumbai', 'India', 'Fall'), ('London', 'United Kingdom', 'Winter'), ('London', 'United Kingdom', 'Fall')]\n",
    "\n",
    "# f) The city and country for which the average Fall temperature is above 20 degrees, in increasing temperature order.\n",
    "fall_above_20 = sorted([(entry[\"City\"], entry[\"Country\"], entry[\"Temperature(C)\"]) for entry in data if entry[\"Season\"] == \"Fall\" and entry[\"Temperature(C)\"] > 20], key=lambda x: x[2])\n",
    "print(fall_above_20)\n",
    "# Output: [('Cairo', 'Egypt', 22.2), ('Mumbai', 'India', 27.6)]\n",
    "\n",
    "# g) The total annual rainfall for Cairo.\n",
    "total_rainfall_cairo = sum(entry[\"Rainfall(mm)\"] for entry in data if entry[\"City\"] == \"Cairo\")\n",
    "print(total_rainfall_cairo)\n",
    "# Output: 27.6\n",
    "\n",
    "# h) The total rainfall for each season.\n",
    "seasons = [\"Winter\", \"Spring\", \"Summer\", \"Fall\"]\n",
    "total_rainfall_season = {season: sum(entry[\"Rainfall(mm)\"] for entry in data if entry[\"Season\"] == season) for season in seasons}\n",
    "print(total_rainfall_season)\n",
    "# Output: {'Winter': 230.1, 'Spring': 192.3, 'Summer': 1706.5, 'Fall': 569.0}\n"
   ]
  },
  {
   "cell_type": "code",
   "execution_count": null,
   "id": "06b0dc56-8d63-4d6d-b533-617cd1dd39c0",
   "metadata": {},
   "outputs": [],
   "source": []
  },
  {
   "cell_type": "markdown",
   "id": "7683a721-5e5f-44bf-98da-c4ce5e7677c0",
   "metadata": {},
   "source": [
    "# Question 9\n",
    ". Suppose list words is defined as follows:\n",
    ">>> words = ['The', 'quick', 'brown', 'fox', 'jumps', 'over',\n",
    "'the', 'lazy', 'dog']\n",
    "Write list comprehension expressions that use list words and generate the following\n",
    "lists:\n",
    "a) ['THE', 'QUICK', 'BROWN', 'FOX', 'JUMPS', 'OVER', 'THE',\n",
    "'LAZY', 'DOG']\n",
    "b) ['the', 'quick', 'brown', 'fox', 'jumps', 'over', 'the',\n",
    "'lazy', 'dog']\n",
    "c) [3, 5, 5, 3, 5, 4, 3, 4, 3] (the list of lengths of words in list\n",
    "words).\n",
    "d) [['THE', 'the', 3], ['QUICK', 'quick', 5], ['BROWN',\n",
    "'brown', 5], ['FOX', 'fox', 3], ['JUMPS', 'jumps', 5],\n",
    "['OVER', 'over', 4], ['THE', 'the', 3], ['LAZY', 'lazy',\n",
    "4], ['DOG', 'dog', 3]] (the list containing a list for every word of list\n",
    "words, where each list contains the word in uppercase and lowercase and the\n",
    "length of the word.)\n",
    "e) ['The', 'quick', 'brown', 'fox', 'jumps', 'over', 'the',\n",
    "'lazy', 'dog'] (the list of words in list words containing 4 or more\n",
    "characters.)"
   ]
  },
  {
   "cell_type": "code",
   "execution_count": 13,
   "id": "494478c8-cb3f-47cf-b5aa-5be5523a0c59",
   "metadata": {},
   "outputs": [
    {
     "name": "stdout",
     "output_type": "stream",
     "text": [
      "['THE', 'QUICK', 'BROWN', 'FOX', 'JUMPS', 'OVER', 'THE', 'LAZY', 'DOG']\n",
      "['the', 'quick', 'brown', 'fox', 'jumps', 'over', 'the', 'lazy', 'dog']\n",
      "[3, 5, 5, 3, 5, 4, 3, 4, 3]\n",
      "[['THE', 'the', 3], ['QUICK', 'quick', 5], ['BROWN', 'brown', 5], ['FOX', 'fox', 3], ['JUMPS', 'jumps', 5], ['OVER', 'over', 4], ['THE', 'the', 3], ['LAZY', 'lazy', 4], ['DOG', 'dog', 3]]\n",
      "['quick', 'brown', 'jumps', 'over', 'lazy']\n"
     ]
    }
   ],
   "source": [
    "# Given list\n",
    "words = ['The', 'quick', 'brown', 'fox', 'jumps', 'over', 'the', 'lazy', 'dog']\n",
    "\n",
    "# a) List with all words in uppercase\n",
    "uppercase_words = [word.upper() for word in words]\n",
    "print(uppercase_words)\n",
    "# Output: ['THE', 'QUICK', 'BROWN', 'FOX', 'JUMPS', 'OVER', 'THE', 'LAZY', 'DOG']\n",
    "\n",
    "# b) List with all words in lowercase\n",
    "lowercase_words = [word.lower() for word in words]\n",
    "print(lowercase_words)\n",
    "# Output: ['the', 'quick', 'brown', 'fox', 'jumps', 'over', 'the', 'lazy', 'dog']\n",
    "\n",
    "# c) List of lengths of words\n",
    "word_lengths = [len(word) for word in words]\n",
    "print(word_lengths)\n",
    "# Output: [3, 5, 5, 3, 5, 4, 3, 4, 3]\n",
    "\n",
    "# d) List of lists containing the word in uppercase, lowercase, and the length of the word\n",
    "word_details = [[word.upper(), word.lower(), len(word)] for word in words]\n",
    "print(word_details)\n",
    "# Output: [['THE', 'the', 3], ['QUICK', 'quick', 5], ['BROWN', 'brown', 5], ['FOX', 'fox', 3], ['JUMPS', 'jumps', 5], ['OVER', 'over', 4], ['THE', 'the', 3], ['LAZY', 'lazy', 4], ['DOG', 'dog', 3]]\n",
    "\n",
    "# e) List of words containing 4 or more characters\n",
    "long_words = [word for word in words if len(word) >= 4]\n",
    "print(long_words)\n",
    "# Output: ['quick', 'brown', 'jumps', 'over', 'lazy']\n"
   ]
  },
  {
   "cell_type": "code",
   "execution_count": null,
   "id": "2b1e95ea-3060-49df-add8-e389aaf86091",
   "metadata": {},
   "outputs": [],
   "source": []
  }
 ],
 "metadata": {
  "kernelspec": {
   "display_name": "Python 3 (ipykernel)",
   "language": "python",
   "name": "python3"
  },
  "language_info": {
   "codemirror_mode": {
    "name": "ipython",
    "version": 3
   },
   "file_extension": ".py",
   "mimetype": "text/x-python",
   "name": "python",
   "nbconvert_exporter": "python",
   "pygments_lexer": "ipython3",
   "version": "3.12.4"
  }
 },
 "nbformat": 4,
 "nbformat_minor": 5
}
